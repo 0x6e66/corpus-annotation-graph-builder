{
 "cells": [
  {
   "cell_type": "code",
   "execution_count": 3,
   "metadata": {},
   "outputs": [
    {
     "data": {
      "text/html": [
       "\n",
       "        <iframe\n",
       "            width=\"500px\"\n",
       "            height=\"500px\"\n",
       "            src=\"example.html\"\n",
       "            frameborder=\"0\"\n",
       "            allowfullscreen\n",
       "            \n",
       "        ></iframe>\n",
       "        "
      ],
      "text/plain": [
       "<IPython.lib.display.IFrame at 0x1708d4aacb0>"
      ]
     },
     "execution_count": 3,
     "metadata": {},
     "output_type": "execute_result"
    }
   ],
   "source": [
    "from cag.graph_framework.components import AnalyzerBase\n",
    "from cag.graph_framework.graph.base_graph import BaseGraph\n",
    "from pyArango.graph import Graph, EdgeDefinition\n",
    "from pyArango.query import AQLQuery\n",
    "from cag.utils.config import Config\n",
    "\n",
    "\n",
    "class KnowledgeGraph(BaseGraph):\n",
    "    _edgeDefinitions = [EdgeDefinition('GenericEdge', fromCollections=[\n",
    "                                       'GenericNode'], toCollections=['GenericNode'])]\n",
    "    _orphanedCollections = []\n",
    "\n",
    "\n",
    "class CorpusDistanceAnalyzer(AnalyzerBase):\n",
    "    def __init__(self, conf: Config):\n",
    "        super().__init__(conf, run=False)\n",
    "\n",
    "    def run(self, f_id, t_id):\n",
    "        query = \"\"\"FOR c_1 IN Corpus\n",
    "    FILTER c_1._key==@f_id\n",
    "    FOR c_2 IN Corpus\n",
    "        FILTER c_2._key==@t_id\n",
    "            FOR path IN 1..10 ANY K_PATHS c_1 TO c_2 CorpusHas, HasKeyterm\n",
    "                LIMIT 1000\n",
    "                RETURN path\"\"\"\n",
    "        aql = self.database.AQLQuery(query, bindVars={\n",
    "            'f_id': f_id, 't_id': t_id}, rawResults=True)\n",
    "        data = list(aql)\n",
    "        return self.visualize_graph(data,weight_edges=True)\n",
    "\n",
    "\n",
    "conf = Config(url=\"http://sc-0050vml:8530/\", user='root',\n",
    "              password='root', graph='KnowledgeGraph',database='SKG-IN')\n",
    "cd = CorpusDistanceAnalyzer(conf)\n",
    "g=cd.run('Pangaea','DLR_elib')\n",
    "g.show(\"example.html\")"
   ]
  },
  {
   "cell_type": "code",
   "execution_count": null,
   "metadata": {},
   "outputs": [],
   "source": []
  }
 ],
 "metadata": {
  "kernelspec": {
   "display_name": "Python 3.10.5 ('scraper')",
   "language": "python",
   "name": "python3"
  },
  "language_info": {
   "codemirror_mode": {
    "name": "ipython",
    "version": 3
   },
   "file_extension": ".py",
   "mimetype": "text/x-python",
   "name": "python",
   "nbconvert_exporter": "python",
   "pygments_lexer": "ipython3",
   "version": "3.10.5"
  },
  "orig_nbformat": 4,
  "vscode": {
   "interpreter": {
    "hash": "3b67e3f922d5d5ac0235569b0667f2284ceca0b1815e38f16b6adbc19d1878f9"
   }
  }
 },
 "nbformat": 4,
 "nbformat_minor": 2
}

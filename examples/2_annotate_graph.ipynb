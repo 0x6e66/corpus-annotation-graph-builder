{
 "cells": [
  {
   "cell_type": "code",
   "execution_count": null,
   "id": "b1acacf7",
   "metadata": {},
   "outputs": [],
   "source": [
    "from cag.framework.annotator.pipeline.pipeline_base import Pipeline\n",
    "from cag.utils.config import Config\n",
    "from tqdm import tqdm\n",
    "from cag.graph_elements.base_graph import BaseGraph\n",
    "from pyArango.graph import  EdgeDefinition\n",
    "import cag\n"
   ]
  },
  {
   "cell_type": "code",
   "execution_count": null,
   "id": "857066a2",
   "metadata": {},
   "outputs": [],
   "source": [
    "# make sure arangodb is up and running - Enter your credentials below\n",
    "my_config = Config(\n",
    "            url= \"http://127.0.0.1:8529\",\n",
    "            user= \"root\",\n",
    "            password= \"oiE9O6s14rLwJ2SB\",\n",
    "            database= \"_system\",\n",
    "            graph= \"MyFirstCagGraph\"\n",
    "        )\n"
   ]
  },
  {
   "cell_type": "code",
   "execution_count": 6,
   "id": "24c94e62",
   "metadata": {},
   "outputs": [],
   "source": [
    "class MyFirstPipeline(Pipeline):\n",
    "    def __init__(self, database_config: Config, batch_size:int = 50):\n",
    "        super().__init__(database_config)\n",
    "        self.period = None\n",
    "        self.batch_size = batch_size\n",
    "    \n",
    "    def process_input(self) -> list:\n",
    "        processed = []\n",
    "        for txt_node in tqdm(self.input):\n",
    "            processed.append((txt_node.text, {\"_key\": txt_node._key}))\n",
    "\n",
    "        return processed\n",
    "    \n",
    "    \n",
    "    def init_and_run(self) -> list:\n",
    "\n",
    "        # 3. Loop over your data, annotate and save\n",
    "        coll = self.database_config.db[\"TextNode\"]\n",
    "        docs = coll.fetchAll(limit=self.batch_size)\n",
    "        fetched = len(docs)\n",
    "\n",
    "        # set the pipeline by adding pre defined pipelines from CAG or using cunstomized ones\n",
    "        #self.set_spacy_language_model(\"en_core_web_md\")\n",
    "        self.add_annotation_pipe(name=\"NamedEntityPipeOrchestrator\", save_output=True, is_spacy=True) # spacy \n",
    "        self.add_annotation_pipe(name=\"EmpathPipeOrchestrator\", save_output=True, is_spacy=True)\n",
    "\n",
    "        while docs != None and len(docs) >0:\n",
    "            ## annotate\n",
    "\n",
    "            # Set the INPUT - this will automatically call preprocess_input (make sure to implement it)\n",
    "            self.set_input(docs)\n",
    "            \n",
    "            self.annotate()\n",
    "            self.save()\n",
    "            \n",
    "            self.reset_input_output()\n",
    "            print(f\"Processed {fetched} docs\")\n",
    "            docs = coll.fetchAll(limit=self.batch_size, skip=fetched)\n",
    "            fetched = fetched + len(docs)\n",
    "            "
   ]
  },
  {
   "cell_type": "code",
   "execution_count": 7,
   "id": "02a1ca4e",
   "metadata": {},
   "outputs": [],
   "source": [
    "my_first_pipeline = MyFirstPipeline(my_config, batch_size =10)"
   ]
  },
  {
   "cell_type": "code",
   "execution_count": null,
   "id": "a3f832a8",
   "metadata": {},
   "outputs": [],
   "source": [
    "my_first_pipeline.init_and_run()"
   ]
  },
  {
   "cell_type": "code",
   "execution_count": null,
   "id": "ec5aadbe",
   "metadata": {},
   "outputs": [],
   "source": []
  },
  {
   "cell_type": "code",
   "execution_count": null,
   "id": "b4d5acec",
   "metadata": {},
   "outputs": [],
   "source": []
  },
  {
   "cell_type": "code",
   "execution_count": null,
   "id": "2ed89cbb",
   "metadata": {},
   "outputs": [],
   "source": []
  },
  {
   "cell_type": "code",
   "execution_count": null,
   "id": "e83883e7",
   "metadata": {},
   "outputs": [],
   "source": []
  }
 ],
 "metadata": {
  "kernelspec": {
   "display_name": "Python 3",
   "language": "python",
   "name": "python3"
  },
  "language_info": {
   "codemirror_mode": {
    "name": "ipython",
    "version": 3
   },
   "file_extension": ".py",
   "mimetype": "text/x-python",
   "name": "python",
   "nbconvert_exporter": "python",
   "pygments_lexer": "ipython3",
   "version": "3.8.2"
  },
  "vscode": {
   "interpreter": {
    "hash": "570feb405e2e27c949193ac68f46852414290d515b0ba6e5d90d076ed2284471"
   }
  }
 },
 "nbformat": 4,
 "nbformat_minor": 5
}
